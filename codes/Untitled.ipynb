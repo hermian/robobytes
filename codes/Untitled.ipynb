{
 "cells": [
  {
   "cell_type": "code",
   "execution_count": 18,
   "id": "1905f4b0",
   "metadata": {},
   "outputs": [
    {
     "name": "stdout",
     "output_type": "stream",
     "text": [
      "4\n"
     ]
    }
   ],
   "source": [
    "open_amt_list = [0, 9.0, 21.6, 39.24, 63.936, 98.5104, 146.9146, 214.6804]\n",
    "temp = 63.936\n",
    "\n",
    "def check_open_cnt(data, amt_list):\n",
    "    idx = 0\n",
    "    for data in open_amt_list:\n",
    "        if round(temp,0) == round(data,0):\n",
    "            return idx\n",
    "        idx = idx + 1\n",
    "    return idx\n",
    "cnt = check_open_cnt(temp, open_amt_list)\n",
    "print(cnt)"
   ]
  },
  {
   "cell_type": "code",
   "execution_count": 40,
   "id": "285a0011",
   "metadata": {},
   "outputs": [
    {
     "name": "stdout",
     "output_type": "stream",
     "text": [
      "([0.0, 9.0, 19.8, 32.76, 48.312, 66.9744, 89.3693], 17.8739)\n"
     ]
    }
   ],
   "source": [
    "revenue_rate = 0.007  #익절 비율\n",
    "max_loss_rate = 0.2       #손절 비율: 20%\n",
    "increace_rate = 0.2   \n",
    "open_cnt_limit = 6    #최대 오픈 건수\n",
    "open_amt_unit = 9     #최소 오픈 수량\n",
    "close2 = 0.6\n",
    "open_long_amt = 0\n",
    "\n",
    "def get_max_loss(open_amt_unit, open_cnt_limit, increace_rate, max_loss_rate):\n",
    "    open_amt = 0\n",
    "    opem_amt_list = [0.0]\n",
    "    for idx in range(0,open_cnt_limit):\n",
    "        temp_amt = open_amt_unit + open_amt*increace_rate\n",
    "        open_amt = round(open_amt + temp_amt,4)\n",
    "        opem_amt_list.append(open_amt)\n",
    "    return opem_amt_list, round(open_amt*max_loss_rate, 4)\n",
    "\n",
    "print(get_max_loss(open_amt_unit, open_cnt_limit, increace_rate, max_loss_rate))"
   ]
  },
  {
   "cell_type": "code",
   "execution_count": null,
   "id": "6b704a83",
   "metadata": {},
   "outputs": [],
   "source": []
  }
 ],
 "metadata": {
  "kernelspec": {
   "display_name": "Python 3",
   "language": "python",
   "name": "python3"
  },
  "language_info": {
   "codemirror_mode": {
    "name": "ipython",
    "version": 3
   },
   "file_extension": ".py",
   "mimetype": "text/x-python",
   "name": "python",
   "nbconvert_exporter": "python",
   "pygments_lexer": "ipython3",
   "version": "3.7.7"
  }
 },
 "nbformat": 4,
 "nbformat_minor": 5
}
