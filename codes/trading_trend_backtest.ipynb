{
 "cells": [
  {
   "cell_type": "code",
   "execution_count": 8,
   "id": "c1534879",
   "metadata": {
    "scrolled": false
   },
   "outputs": [
    {
     "name": "stdout",
     "output_type": "stream",
     "text": [
      "(168883, 31)\n",
      "Index(['t', 'o', 'h', 'l', 'c', 'v', 'sma7', 'sma25', 'sma99', 'wma7', 'wma25',\n",
      "       'wma99', 'ema7', 'ema25', 'ema99', 'macd', 'macd_s', 'macd_d', 'rsi6',\n",
      "       'rsi12', 'rsi24', 'srsi', 'srsik', 'srsid', 'bh', 'bhi', 'bl', 'bli',\n",
      "       'bm', 'bw', 'vwap'],\n",
      "      dtype='object')\n",
      "-0.3926000000000085\n"
     ]
    }
   ],
   "source": [
    "import pandas as pd\n",
    "import numpy as np\n",
    "\n",
    "#테스트 파일 로딩\n",
    "df_org = pd.read_csv('./data/XRPUSDT_index.csv')\n",
    "print(df_org.shape)\n",
    "print(df_org.columns)\n",
    "\n",
    "#변수 선언\n",
    "open_long_cnt = 0 \n",
    "open_long_price = 0\n",
    "open_long_amt = 0\n",
    "open_short_cnt = 0\n",
    "open_short_price = 0\n",
    "open_short_amt = 0\n",
    "momentum = ''\n",
    "revenue = 0\n",
    "revenue_t = 0\n",
    "\n",
    "df = df_org.iloc[df_org.shape[0]-144000:,] #테스트 데이터 선택 100, 1440, 14400, 144000, 전체\n",
    "for i in range(0, df.shape[0]-1):\n",
    "    \n",
    "    close2 = round(df.iloc[i+1:i+2,]['c'].values[0],4) #다음 분 종가: 매매 기준 가격\n",
    "    w7 = round(df.iloc[i:i+1,]['wma7'].values[0],4)\n",
    "    w25 = round(df.iloc[i:i+1,]['wma25'].values[0],4)\n",
    "    w99 = round(df.iloc[i:i+1,]['wma99'].values[0],4)\n",
    "    \n",
    "    #close long position\n",
    "    if momentum == 'long' and open_long_cnt > 0 and w7 < w25:\n",
    "        revenue_t = close2*open_long_amt - open_long_price\n",
    "        revenue = revenue + revenue_t\n",
    "        open_long_cnt = 0\n",
    "        open_long_amt = 0\n",
    "        open_long_price = 0\n",
    "        momentum = ''\n",
    "        continue\n",
    "    \n",
    "    #close short position\n",
    "    if momentum == 'short' and open_short_cnt > 0 and w7 > w25:\n",
    "        revenue_t = open_short_price - close2*open_short_amt\n",
    "        revenue = revenue + revenue_t\n",
    "        open_short_cnt = 0\n",
    "        open_short_amt = 0\n",
    "        open_short_price = 0\n",
    "        momentum = ''\n",
    "        continue\n",
    "    \n",
    "    #open long position\n",
    "    if momentum != 'short' and open_long_cnt < 4 and w7 > w25 and w25 > w99: \n",
    "        open_long_amt = round(open_long_amt + (1-open_long_cnt*0.25),4)\n",
    "        open_long_price = round(open_long_price + close2*(1-open_long_cnt*0.25),4)\n",
    "        open_long_cnt = open_long_cnt + 1        \n",
    "        momentum = 'long'\n",
    "        \n",
    "    #open short position\n",
    "    if momentum != 'long' and open_short_cnt < 4 and w7 < w25 and w25 < w99: \n",
    "        open_short_amt = round(open_short_amt + (1-open_short_cnt*0.25),4)\n",
    "        open_short_price = round(open_short_price + close2*(1-open_short_cnt*0.25),4)\n",
    "        open_short_cnt = open_short_cnt + 1        \n",
    "        momentum = 'short'\n",
    "\n",
    "    #monitoring log\n",
    "#     print(\"c:{} w7:{} w25:{} w99:{} olc:{} ola:{} olp:{} osc:{} osa:{} osp:{} revenue:{:0.4f}\"\n",
    "#           .format(close2, w7, w25, w99, open_long_cnt, open_long_amt, open_long_price, \n",
    "#                   open_short_cnt, open_short_amt, open_short_price, revenue))\n",
    "\n",
    "#print total revenue\n",
    "print(revenue)"
   ]
  },
  {
   "cell_type": "code",
   "execution_count": null,
   "id": "a250a776",
   "metadata": {},
   "outputs": [],
   "source": []
  }
 ],
 "metadata": {
  "kernelspec": {
   "display_name": "Python 3",
   "language": "python",
   "name": "python3"
  },
  "language_info": {
   "codemirror_mode": {
    "name": "ipython",
    "version": 3
   },
   "file_extension": ".py",
   "mimetype": "text/x-python",
   "name": "python",
   "nbconvert_exporter": "python",
   "pygments_lexer": "ipython3",
   "version": "3.7.7"
  }
 },
 "nbformat": 4,
 "nbformat_minor": 5
}
