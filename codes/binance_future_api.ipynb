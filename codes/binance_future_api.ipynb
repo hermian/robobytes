{
 "cells": [
  {
   "cell_type": "code",
   "execution_count": null,
   "id": "273cfab8",
   "metadata": {},
   "outputs": [],
   "source": [
    "##### 초기설정\n",
    "\n",
    "from binance_f import RequestClient\n",
    "from binance_f.model.constant import *\n",
    "import comm.config as conf\n",
    "\n",
    "g_api_key = conf.G_API_KEY       # binance API key\n",
    "g_secret_key = conf.G_SECRET_KEY # binance secret key\n",
    "coin_name = 'XRPUSDT'\n",
    "\n",
    "request_client = RequestClient(api_key=g_api_key, secret_key=g_secret_key)"
   ]
  },
  {
   "cell_type": "code",
   "execution_count": null,
   "id": "3ffc040d",
   "metadata": {
    "scrolled": true
   },
   "outputs": [],
   "source": [
    "##### 초기 레버리지 설정\n",
    "\n",
    "result = request_client.change_initial_leverage(symbol=coin_name, leverage=1.0)\n",
    "print(\">>\", result.leverage) #1.0을 리턴해야 한다."
   ]
  },
  {
   "cell_type": "code",
   "execution_count": null,
   "id": "c865c23c",
   "metadata": {},
   "outputs": [],
   "source": [
    "#### 호가조회\n",
    "\n",
    "result = request_client.get_order_book(symbol = coin_name, limit = 10)\n",
    "bid = result.bids[0].price #매수\n",
    "ask = result.asks[0].price #매도\n",
    "print(\">>\", bid, ask)"
   ]
  },
  {
   "cell_type": "code",
   "execution_count": null,
   "id": "70de0285",
   "metadata": {},
   "outputs": [],
   "source": [
    "#### 주문: LONG 지정가매수\n",
    "\n",
    "result = request_client.post_order(\n",
    "    symbol=coin_name,\n",
    "    side=OrderSide.BUY,\n",
    "    ordertype=OrderType.LIMIT,\n",
    "    quantity = '10',\n",
    "    price = '0.6655',\n",
    "    timeInForce = \"GTC\",\n",
    "    positionSide=\"LONG\"\n",
    ")\n",
    "print(\">>orderId:{}\".format(result.orderId))"
   ]
  },
  {
   "cell_type": "code",
   "execution_count": null,
   "id": "36807be5",
   "metadata": {},
   "outputs": [],
   "source": [
    "##### 주문: LONG : TAKE_PROFIT\n",
    "#long position을 open한 후(new 상태일 때는 take profit이 자동 close된다) take profit 주문을 넣는다.\n",
    "\n",
    "result = request_client.post_order(\n",
    "    symbol=coin_name,\n",
    "    side=OrderSide.SELL,\n",
    "    ordertype=OrderType.TAKE_PROFIT,\n",
    "    quantity = '10',\n",
    "    price = '0.6665',     #현재가 보다 더 높은 가격\n",
    "    stopPrice = '0.6656', #현재가 보다 높은 가격\n",
    "    positionSide=\"LONG\"\n",
    ")\n",
    "print(\">>orderId:{}\".format(result.orderId))"
   ]
  },
  {
   "cell_type": "code",
   "execution_count": null,
   "id": "10722ae3",
   "metadata": {},
   "outputs": [],
   "source": [
    "##### 주문: LONG POSITION : STOP_MARKET, 손실 최소화\n",
    "\n",
    "result = request_client.post_order(\n",
    "    symbol=coin_name,\n",
    "    side=OrderSide.SELL,\n",
    "    ordertype=OrderType.STOP_MARKET,\n",
    "    stopPrice = '0.6600',   #현재가 보다 낮은 가격\n",
    "    quantity = '10',\n",
    "    positionSide=\"LONG\"\n",
    ")\n",
    "print(\">> orderId:{}\".format(result.orderId))"
   ]
  },
  {
   "cell_type": "code",
   "execution_count": null,
   "id": "d8f29ac8",
   "metadata": {},
   "outputs": [],
   "source": [
    "##### 주문: LONG POSITION CLOSE : MARKET\n",
    "\n",
    "result = request_client.post_order(\n",
    "    symbol=coin_name,\n",
    "    side=OrderSide.SELL,\n",
    "    ordertype=OrderType.MARKET,\n",
    "    quantity = '10',\n",
    "    positionSide=\"LONG\"\n",
    ")\n",
    "print(\">>orderId:{}\".format(result.orderId))"
   ]
  },
  {
   "cell_type": "code",
   "execution_count": null,
   "id": "b00937ef",
   "metadata": {},
   "outputs": [],
   "source": [
    "##### 주문: LONG POSITION CLOSE : LIMIT\n",
    "result = request_client.post_order(\n",
    "    symbol=coin_name,\n",
    "    side=OrderSide.SELL,\n",
    "    ordertype=OrderType.LIMIT,\n",
    "    quantity = '10',\n",
    "    price = '0.6650',\n",
    "    timeInForce = \"GTC\",\n",
    "    positionSide=\"LONG\"\n",
    ")\n",
    "print(\">>orderId:{} status:{}\".format(result.orderId, result.status))"
   ]
  },
  {
   "cell_type": "code",
   "execution_count": null,
   "id": "2a3d9d6f",
   "metadata": {},
   "outputs": [],
   "source": [
    "##### 주문상태 조회\n",
    "\n",
    "result = request_client.get_order(symbol=coin_name, orderId='15504205374')\n",
    "print('>>status:',result.status) #NEW:대기, FILLED:체결, CANCELED:취소"
   ]
  },
  {
   "cell_type": "code",
   "execution_count": null,
   "id": "6979d06c",
   "metadata": {},
   "outputs": [],
   "source": [
    "##### 주문취소(미체결 주문에 대한 취소)\n",
    "\n",
    "result = request_client.cancel_order(symbol=coin_name, orderId='15504255448')\n",
    "print('>>status:',result.status) #\"CANCELED\" 가 정상"
   ]
  },
  {
   "cell_type": "code",
   "execution_count": null,
   "id": "835e05c4",
   "metadata": {},
   "outputs": [],
   "source": [
    "##### 전체 주문 조회\n",
    "\n",
    "results = request_client.get_all_orders(symbol=coin_name)\n",
    "for result in results:\n",
    "    if result.status == 'NEW': #NEW:미체결, FILLED:체결\n",
    "        print(\">> order new:\", result.status, result.price, result.type, result.positionSide,\n",
    "              result.closePosition, result.executedQty, result.workingType)"
   ]
  },
  {
   "cell_type": "code",
   "execution_count": null,
   "id": "31a903a7",
   "metadata": {
    "scrolled": true
   },
   "outputs": [],
   "source": [
    "##### 전체 주문 취소: 미체결 주문\n",
    "\n",
    "result = request_client.cancel_all_orders(symbol=coin_name)\n",
    "print('>> result:',result.code, result.msg) #200, The operation of cancel all open order is done."
   ]
  },
  {
   "cell_type": "code",
   "execution_count": null,
   "id": "fee20285",
   "metadata": {
    "scrolled": false
   },
   "outputs": [],
   "source": [
    "##### 포지션 조회\n",
    "\n",
    "results = request_client.get_position()\n",
    "for result in results:\n",
    "    if result.symbol == coin_name and result.positionSide == 'LONG':\n",
    "        print('>> long position:',result.symbol, result.positionSide, result.positionAmt, result.entryPrice)\n",
    "    if result.symbol == coin_name and result.positionSide == 'SHORT':\n",
    "        print('>> short position:',result.symbol, result.positionSide, abs(result.positionAmt), result.entryPrice)"
   ]
  },
  {
   "cell_type": "code",
   "execution_count": null,
   "id": "aebc09ba",
   "metadata": {
    "scrolled": false
   },
   "outputs": [],
   "source": [
    "##### 잔고조회\n",
    "\n",
    "result = request_client.get_balance()\n",
    "balance = 0\n",
    "for i in result:\n",
    "    balance = balance + i.balance\n",
    "print('>> balance:', balance)"
   ]
  },
  {
   "cell_type": "code",
   "execution_count": null,
   "id": "fcef49ee",
   "metadata": {},
   "outputs": [],
   "source": [
    "##### 잔고조회 : 로그 없애기\n",
    "\n",
    "result = request_client.get_balance()\n",
    "balance = 0\n",
    "for i in result:\n",
    "    balance = balance + i.balance\n",
    "print('>> balance:', balance)"
   ]
  },
  {
   "cell_type": "code",
   "execution_count": null,
   "id": "fc9911dd",
   "metadata": {},
   "outputs": [],
   "source": []
  }
 ],
 "metadata": {
  "kernelspec": {
   "display_name": "Python 3",
   "language": "python",
   "name": "python3"
  },
  "language_info": {
   "codemirror_mode": {
    "name": "ipython",
    "version": 3
   },
   "file_extension": ".py",
   "mimetype": "text/x-python",
   "name": "python",
   "nbconvert_exporter": "python",
   "pygments_lexer": "ipython3",
   "version": "3.7.7"
  }
 },
 "nbformat": 4,
 "nbformat_minor": 5
}
